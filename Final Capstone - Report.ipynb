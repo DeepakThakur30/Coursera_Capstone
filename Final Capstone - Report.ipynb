{
    "cells": [
        {
            "cell_type": "markdown",
            "metadata": {
                "collapsed": true
            },
            "source": "# Accident Severity Prediction"
        },
        {
            "cell_type": "markdown",
            "metadata": {},
            "source": "## 1. Introduction"
        },
        {
            "cell_type": "markdown",
            "metadata": {},
            "source": "## 1.1 Background"
        },
        {
            "cell_type": "markdown",
            "metadata": {},
            "source": "Accidents in traffic lead to associated fatalities and economic losses every year worldwide and thus is an area of primary concern to society from loss prevention point of view. Modeling accident severity prediction and improving the model are critical to the effective performance of road traffic systems for improved safety. In accident severity modeling, the input vectors are the characteristics of the accident, such as driver behavior and attributes of vehicle, highway and environment characteristics while the output vector is the corresponding class of accident severity."
        },
        {
            "cell_type": "markdown",
            "metadata": {},
            "source": "## 1.2 Interests"
        },
        {
            "cell_type": "markdown",
            "metadata": {},
            "source": "The Governing bodies and Traffic Departments would be interested in this analysis and will benefit from the prescribed suggestions."
        },
        {
            "cell_type": "markdown",
            "metadata": {},
            "source": "# 2. Data Cleaning and Aquisation"
        },
        {
            "cell_type": "markdown",
            "metadata": {},
            "source": "## 2.1 Data Sources"
        },
        {
            "cell_type": "markdown",
            "metadata": {},
            "source": "The data on which analysis has to be performed can be found in this Kaggle dataset https://www.kaggle.com/tsiaras/uk-road-safety-accidents-and-vehicles. This study looked at how to best create a classification model that predicts injury severity of drivers by adding distance features of nearest places of interest namely, malls, bars, schools, buildings, and points of interest. \n\n* It covers a wider date range of events.\n\n* Most of the coded data variables have been transformed to textual strings using relevant lookup tables, enabling more efficient and \"human-readable\" analysis\n\n* It features detailed information about the vehicles involved in the accidents."
        },
        {
            "cell_type": "code",
            "execution_count": null,
            "metadata": {},
            "outputs": [],
            "source": ""
        }
    ],
    "metadata": {
        "kernelspec": {
            "display_name": "Python 3.6",
            "language": "python",
            "name": "python3"
        },
        "language_info": {
            "codemirror_mode": {
                "name": "ipython",
                "version": 3
            },
            "file_extension": ".py",
            "mimetype": "text/x-python",
            "name": "python",
            "nbconvert_exporter": "python",
            "pygments_lexer": "ipython3",
            "version": "3.6.9"
        }
    },
    "nbformat": 4,
    "nbformat_minor": 1
}